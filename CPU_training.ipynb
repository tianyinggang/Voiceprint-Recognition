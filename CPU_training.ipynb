{
 "cells": [
  {
   "cell_type": "code",
   "execution_count": null,
   "id": "40a09999-3528-4765-934b-489fb94992e2",
   "metadata": {},
   "outputs": [],
   "source": [
    "!git clone https://github.com/tianyinggang/Voiceprint-Recognition"
   ]
  },
  {
   "cell_type": "code",
   "execution_count": null,
   "id": "eb1ac8c4-40ce-4c85-8177-e628d504ef5f",
   "metadata": {
    "scrolled": true
   },
   "outputs": [],
   "source": [
    "%cd ./Voiceprint-Recognition\n",
    "# must install python 3.10 + tensorflow 2.14.0\n",
    "!pip install -r ./requirements.txt"
   ]
  },
  {
   "cell_type": "code",
   "execution_count": null,
   "id": "81512e81-961f-4a91-bca2-5f55618e6045",
   "metadata": {
    "scrolled": true
   },
   "outputs": [],
   "source": [
    "!python ./data_download_mini.py"
   ]
  },
  {
   "cell_type": "code",
   "execution_count": null,
   "id": "fc8787fa-d890-4336-91f7-4b3cb8662458",
   "metadata": {},
   "outputs": [],
   "source": []
  },
  {
   "cell_type": "code",
   "execution_count": null,
   "id": "b2308425-19d2-4d2f-a35c-e6babbe7d2d9",
   "metadata": {},
   "outputs": [],
   "source": [
    "!bash ./audio/convert_flac_2_wav.sh"
   ]
  },
  {
   "cell_type": "code",
   "execution_count": null,
   "id": "3d705dac-f7bb-4cbd-910e-d8a3d382d584",
   "metadata": {
    "scrolled": true
   },
   "outputs": [],
   "source": [
    "# if no have GPU \n",
    "!python ./pretraining.py --max_steps 100"
   ]
  },
  {
   "cell_type": "code",
   "execution_count": null,
   "id": "67df4099-da78-4b97-84d1-1c3237752abd",
   "metadata": {},
   "outputs": [],
   "source": [
    "!python ./train.py --max_steps 100"
   ]
  }
 ],
 "metadata": {
  "kernelspec": {
   "display_name": "Python 3.10 (LLM Dev)",
   "language": "python",
   "name": "llm-dev"
  },
  "language_info": {
   "codemirror_mode": {
    "name": "ipython",
    "version": 3
   },
   "file_extension": ".py",
   "mimetype": "text/x-python",
   "name": "python",
   "nbconvert_exporter": "python",
   "pygments_lexer": "ipython3",
   "version": "3.10.12"
  }
 },
 "nbformat": 4,
 "nbformat_minor": 5
}
